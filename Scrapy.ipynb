{
 "cells": [
  {
   "cell_type": "code",
   "execution_count": 5,
   "metadata": {},
   "outputs": [],
   "source": [
    "from bs4 import BeautifulSoup\n",
    "import scrapy\n",
    "\n",
    "\n",
    "class HnSpider(scrapy.Spider):\n",
    "    name = \"hacker-news\"\n",
    "    allowed_domains = [\"news.ycombinator.com\"]\n",
    "    start_urls = [f'https://news.ycombinator.com/news?p={i}' for i in range(1,16)]\n",
    "\n",
    "    def parse(self, response):\n",
    "        soup = BeautifulSoup(response.text, 'html.parser')\n",
    "        links = soup.findAll('tr', class_='athing')\n",
    "\n",
    "        for link in links:\n",
    "        \tyield {\n",
    "        \t\t'id': link['id'],\n",
    "        \t\t'title': link.find_all('td')[2].a.text,\n",
    "        \t\t\"url\": link.find_all('td')[2].a['href'],\n",
    "        \t\t\"rank\": int(link.td.span.text.replace('.', ''))\n",
    "        \t}"
   ]
  },
  {
   "cell_type": "code",
   "execution_count": null,
   "metadata": {},
   "outputs": [],
   "source": []
  }
 ],
 "metadata": {
  "kernelspec": {
   "display_name": "Python 3",
   "language": "python",
   "name": "python3"
  },
  "language_info": {
   "codemirror_mode": {
    "name": "ipython",
    "version": 3
   },
   "file_extension": ".py",
   "mimetype": "text/x-python",
   "name": "python",
   "nbconvert_exporter": "python",
   "pygments_lexer": "ipython3",
   "version": "3.8.5"
  }
 },
 "nbformat": 4,
 "nbformat_minor": 4
}
