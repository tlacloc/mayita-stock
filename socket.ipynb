{
 "cells": [
  {
   "cell_type": "code",
   "execution_count": 8,
   "metadata": {},
   "outputs": [
    {
     "name": "stdout",
     "output_type": "stream",
     "text": [
      "b'HTTP/1.1 302 Found\\r\\nDate: Tue, 16 Mar 2021 01:54:36 GMT\\r\\nContent-Type: text/html\\r\\nConnection: close\\r\\nSet-Cookie: __cfduid=d793aa286e589b404de92e19c232e98421615859676; expires=Thu, 15-Apr-21 01:54:36 GMT; path=/; domain=.nihaojewelry.com; HttpOnly; SameSite=Lax\\r\\nLocation: https://www.nihaojewelry.com/\\r\\nVia: HTTP/1.1 SLB.46\\r\\nCF-Cache-Status: DYNAMIC\\r\\ncf-request-id: 08da570ed7000004b8dc9f1000000001\\r\\nReport-To: {\"group\":\"cf-nel\",\"max_age\":604800,\"endpoints\":[{\"url\":\"https:\\\\/\\\\/a.nel.cloudflare.com\\\\/report?s=ioLNpKg49%2Be73AToSQGdXop0uV3D11OJ1aXpE19VC%2BrC2G5j2GDn%2B1YoARDdk%2FMMjicZxVvPYuDraBqESzsVR5ZKjuAlJegWbPlNHhvM3E0wDqYBxA%3D%3D\"}]}\\r\\nNEL: {\"max_age\":604800,\"report_to\":\"cf-nel\"}\\r\\nServer: cloudflare\\r\\nCF-RAY: 630a5ac488ae04b8-LAX\\r\\nalt-svc: h3-27=\":443\"; ma=86400, h3-28=\":443\"; ma=86400, h3-29=\":443\"; ma=86400\\r\\n\\r\\n<html>\\r\\n<head><title>302 Found</title></head>\\r\\n<body bgcolor=\"white\">\\r\\n<center><h1>302 Found</h1></center>\\r\\n<hr><center>nginx</center>\\r\\n</body>\\r\\n</html>\\r\\n'\n"
     ]
    }
   ],
   "source": [
    "import socket\n",
    "\n",
    "HOST = 'www.nihaojewelry.com'  # Server hostname or IP address\n",
    "PORT = 80        # Port\n",
    "\n",
    "client_socket = socket.socket(socket.AF_INET, socket.SOCK_STREAM)\n",
    "server_address = (HOST, PORT)\n",
    "client_socket.connect(server_address)\n",
    "\n",
    "request_header = b'GET / HTTP/1.0\\r\\nHost: www.nihaojewelry.com\\r\\n\\r\\n'\n",
    "client_socket.sendall(request_header)\n",
    "\n",
    "response = ''\n",
    "while True:\n",
    "    recv = client_socket.recv(1024)\n",
    "    if not recv:\n",
    "        break\n",
    "    response += str(recv)\n",
    "\n",
    "print(response)\n",
    "client_socket.close() "
   ]
  },
  {
   "cell_type": "code",
   "execution_count": null,
   "metadata": {},
   "outputs": [],
   "source": []
  }
 ],
 "metadata": {
  "kernelspec": {
   "display_name": "Python 3",
   "language": "python",
   "name": "python3"
  },
  "language_info": {
   "codemirror_mode": {
    "name": "ipython",
    "version": 3
   },
   "file_extension": ".py",
   "mimetype": "text/x-python",
   "name": "python",
   "nbconvert_exporter": "python",
   "pygments_lexer": "ipython3",
   "version": "3.8.5"
  }
 },
 "nbformat": 4,
 "nbformat_minor": 4
}
